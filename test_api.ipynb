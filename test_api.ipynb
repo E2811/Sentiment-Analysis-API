{
 "cells": [
  {
   "cell_type": "markdown",
   "metadata": {},
   "source": [
    "# Test API "
   ]
  },
  {
   "cell_type": "code",
   "execution_count": 7,
   "metadata": {},
   "outputs": [],
   "source": [
    "import requests"
   ]
  },
  {
   "cell_type": "markdown",
   "metadata": {},
   "source": [
    "### Users"
   ]
  },
  {
   "cell_type": "markdown",
   "metadata": {},
   "source": [
    "Create user"
   ]
  },
  {
   "cell_type": "code",
   "execution_count": 9,
   "metadata": {},
   "outputs": [
    {
     "name": "stdout",
     "output_type": "stream",
     "text": [
      "{'user_id': '1', 'username': 'Monica'}\n",
      "{'user_id': '2', 'username': 'Chandler'}\n",
      "{'user_id': '3', 'username': 'Ross'}\n",
      "{'user_id': '4', 'username': 'Rachel'}\n",
      "{'user_id': '5', 'username': 'Phoebe'}\n",
      "{'user_id': '6', 'username': 'Joey'}\n"
     ]
    }
   ],
   "source": [
    "for n in ['Monica','Chandler','Ross','Rachel','Phoebe','Joey']:\n",
    "    print(requests.get(f\"http://localhost:5000/user/create/{n}\").json())"
   ]
  },
  {
   "cell_type": "markdown",
   "metadata": {},
   "source": [
    "User recommendation based on sentiments and similarity words"
   ]
  },
  {
   "cell_type": "code",
   "execution_count": 13,
   "metadata": {},
   "outputs": [
    {
     "data": {
      "text/plain": [
       "{'users': {'1': 0.8938867087985268,\n",
       "  '2': 0.8459091831900927,\n",
       "  '3': 0.9191035676536818,\n",
       "  '4': 0.8248919391559706,\n",
       "  '6': 0.8622282441337686}}"
      ]
     },
     "execution_count": 13,
     "metadata": {},
     "output_type": "execute_result"
    }
   ],
   "source": [
    "requests.get(\"http://localhost:5000/user/5/recommend\").json()"
   ]
  },
  {
   "cell_type": "code",
   "execution_count": 14,
   "metadata": {},
   "outputs": [
    {
     "data": {
      "text/plain": [
       "{'user_id': '1', 'username': 'Monica'}"
      ]
     },
     "execution_count": 14,
     "metadata": {},
     "output_type": "execute_result"
    }
   ],
   "source": [
    "requests.get(\"http://localhost:5000/user/5/recommendation\").json()"
   ]
  },
  {
   "cell_type": "markdown",
   "metadata": {},
   "source": [
    "### Chat"
   ]
  },
  {
   "cell_type": "markdown",
   "metadata": {},
   "source": [
    "Create chat"
   ]
  },
  {
   "cell_type": "code",
   "execution_count": 4,
   "metadata": {},
   "outputs": [
    {
     "data": {
      "text/plain": [
       "{'chat_id': 7}"
      ]
     },
     "execution_count": 4,
     "metadata": {},
     "output_type": "execute_result"
    }
   ],
   "source": [
    "requests.get(\"http://localhost:5000/chat/create?users_id=[2,3,4]\").json()"
   ]
  },
  {
   "cell_type": "markdown",
   "metadata": {},
   "source": [
    "Add message"
   ]
  },
  {
   "cell_type": "code",
   "execution_count": 12,
   "metadata": {},
   "outputs": [
    {
     "data": {
      "text/plain": [
       "{'chat_id': '7'}"
      ]
     },
     "execution_count": 12,
     "metadata": {},
     "output_type": "execute_result"
    }
   ],
   "source": [
    "body = {\n",
    "    \"user_id\": 3,\n",
    "    \"text\": \"Oh Donald that-that would be great. I am totally ready to come back to work. I—What? (He notices something through the window.) No! Wh… What are you doing?!! (Dr. Ledbetter is slowly backing away.) GET OFF MY SISTER!!!!!!!!!!!!!\"\n",
    "}\n",
    "headers = {\n",
    "    \"Content-Type\": \"application/json\"\n",
    "}\n",
    "requests.get(\"http://localhost:5000//chat/7/addmessage?user_id=3\",json=body,headers=headers).json()"
   ]
  },
  {
   "cell_type": "code",
   "execution_count": 13,
   "metadata": {},
   "outputs": [
    {
     "data": {
      "text/plain": [
       "{'messages': [{'message': 'Oh Donald that-that would be great. I am totally ready to come back to work. I—What? (He notices something through the window.) No! Wh… What are you doing?!! (Dr. Ledbetter is slowly backing away.) GET OFF MY SISTER!!!!!!!!!!!!!',\n",
       "   'time': 'Wed, 26 Feb 2020 23:08:30 GMT',\n",
       "   'user_id': 3}]}"
      ]
     },
     "execution_count": 13,
     "metadata": {},
     "output_type": "execute_result"
    }
   ],
   "source": [
    "requests.get(\"http://localhost:5000/chat/7/list\").json()"
   ]
  },
  {
   "cell_type": "markdown",
   "metadata": {},
   "source": [
    "Obtain chat list"
   ]
  },
  {
   "cell_type": "code",
   "execution_count": 5,
   "metadata": {},
   "outputs": [
    {
     "data": {
      "text/plain": [
       "{'messages': [{'message': \"You mean whenever Monica and Chandler where like y'know doing laundry or going grocery shopping or—Oh! All that time Monica spent on the phone with sad Linda from camp!\",\n",
       "   'sentiment': -0.2924,\n",
       "   'time': 'Sat, 22 Feb 2020 19:43:10 GMT',\n",
       "   'user_id': 5},\n",
       "  {'message': 'Uh-huh, doing it. Doing it. Phone doing it.',\n",
       "   'sentiment': 0.0,\n",
       "   'time': 'Sat, 22 Feb 2020 19:43:29 GMT',\n",
       "   'user_id': 4},\n",
       "  {'message': \"Oh! Oh, I can't believe it! I mean I think it's great! For him. She might be able to do better.\",\n",
       "   'sentiment': 0.8349,\n",
       "   'time': 'Sat, 22 Feb 2020 19:43:44 GMT',\n",
       "   'user_id': 5},\n",
       "  {'message': 'Hey guys!',\n",
       "   'sentiment': 0.0,\n",
       "   'time': 'Sat, 22 Feb 2020 19:43:59 GMT',\n",
       "   'user_id': 6},\n",
       "  {'message': 'Joey! Come here! Come here!',\n",
       "   'sentiment': 0.0,\n",
       "   'time': 'Sat, 22 Feb 2020 19:44:12 GMT',\n",
       "   'user_id': 4},\n",
       "  {'message': 'What? What?',\n",
       "   'sentiment': 0.0,\n",
       "   'time': 'Sat, 22 Feb 2020 19:44:29 GMT',\n",
       "   'user_id': 6},\n",
       "  {'message': 'Phoebe just found out about Monica and Chandler.',\n",
       "   'sentiment': 0.0,\n",
       "   'time': 'Sat, 22 Feb 2020 19:44:49 GMT',\n",
       "   'user_id': 4},\n",
       "  {'message': \"You mean how they're friends and nothing more?\",\n",
       "   'sentiment': 0.4767,\n",
       "   'time': 'Sat, 22 Feb 2020 19:45:10 GMT',\n",
       "   'user_id': 6},\n",
       "  {'message': \"No. Joey, she knows! We were at Ugly Naked Guy's apartment and we saw them doing it through the window. (Joey gasps) Actually, we saw them doing it up against the window.\",\n",
       "   'sentiment': -0.6996,\n",
       "   'time': 'Sat, 22 Feb 2020 19:45:30 GMT',\n",
       "   'user_id': 4},\n",
       "  {'message': \"Okay, so now they know that you know and they don't know that Rachel knows?\",\n",
       "   'sentiment': 0.2263,\n",
       "   'time': 'Sat, 22 Feb 2020 19:45:47 GMT',\n",
       "   'user_id': 5},\n",
       "  {'message': \"Yes, but y'know what? It doesn't matter who knows what. Now, enough of us know that we can just tell them that we know! Then all the lying and the secrets would finally be over!\",\n",
       "   'sentiment': -0.6646,\n",
       "   'time': 'Sat, 22 Feb 2020 19:46:07 GMT',\n",
       "   'user_id': 6},\n",
       "  {'message': 'Or, we could not tell them we know and have a little fun of our own.',\n",
       "   'sentiment': 0.4601,\n",
       "   'time': 'Sat, 22 Feb 2020 19:46:45 GMT',\n",
       "   'user_id': 6},\n",
       "  {'message': 'Wh-what do you mean?',\n",
       "   'sentiment': 0.0,\n",
       "   'time': 'Sat, 22 Feb 2020 19:47:07 GMT',\n",
       "   'user_id': 4},\n",
       "  {'message': \"Well y'know every time that they say that like they're doing laundry we'll just give them a bunch of laundry to do.\",\n",
       "   'sentiment': 0.5574,\n",
       "   'time': 'Sat, 22 Feb 2020 19:47:22 GMT',\n",
       "   'user_id': 5},\n",
       "  {'message': 'Ohhh, I-I would enjoy that!',\n",
       "   'sentiment': 0.5411,\n",
       "   'time': 'Sat, 22 Feb 2020 19:47:41 GMT',\n",
       "   'user_id': 4},\n",
       "  {'message': 'No-no-no! No-no wait Rach, you know what would even be more fun? Telling them.',\n",
       "   'sentiment': 0.5974,\n",
       "   'time': 'Sat, 22 Feb 2020 19:47:58 GMT',\n",
       "   'user_id': 6}]}"
      ]
     },
     "execution_count": 5,
     "metadata": {},
     "output_type": "execute_result"
    }
   ],
   "source": [
    "requests.get(\"http://localhost:5000/chat/2/list\").json()"
   ]
  },
  {
   "cell_type": "markdown",
   "metadata": {},
   "source": [
    "Chat sentiment"
   ]
  },
  {
   "cell_type": "code",
   "execution_count": 6,
   "metadata": {},
   "outputs": [
    {
     "data": {
      "text/plain": [
       "{'chat_id': '3',\n",
       " 'messages': [{'message': 'You are so cute! How did you get to be so cute?',\n",
       "   'sentiment': 0.8412,\n",
       "   'time': 'Sat, 22 Feb 2020 19:50:07 GMT',\n",
       "   'user_id': 1},\n",
       "  {'message': 'Well, my Grandfather was Swedish and my Grandmother was actually a tiny little bunny.',\n",
       "   'sentiment': 0.2732,\n",
       "   'time': 'Sat, 22 Feb 2020 19:50:24 GMT',\n",
       "   'user_id': 2},\n",
       "  {'message': \"Okay, now you're even cuter!!\",\n",
       "   'sentiment': 0.6988,\n",
       "   'time': 'Sat, 22 Feb 2020 19:50:40 GMT',\n",
       "   'user_id': 1},\n",
       "  {'message': \"Y'know that is a popular opinion today I must say.\",\n",
       "   'sentiment': 0.4215,\n",
       "   'time': 'Sat, 22 Feb 2020 19:50:55 GMT',\n",
       "   'user_id': 2},\n",
       "  {'message': 'What?',\n",
       "   'sentiment': 0.0,\n",
       "   'time': 'Sat, 22 Feb 2020 19:51:10 GMT',\n",
       "   'user_id': 1},\n",
       "  {'message': 'The weirdest thing happened at the coffee house, I think, I think Phoebe was hitting on me.',\n",
       "   'sentiment': -0.2263,\n",
       "   'time': 'Sat, 22 Feb 2020 19:51:25 GMT',\n",
       "   'user_id': 2},\n",
       "  {'message': 'What are you talking about?',\n",
       "   'sentiment': 0.0,\n",
       "   'time': 'Sat, 22 Feb 2020 19:51:39 GMT',\n",
       "   'user_id': 1},\n",
       "  {'message': \"I'm telling you I think Phoebe thinks I'm foxy.\",\n",
       "   'sentiment': 0.0,\n",
       "   'time': 'Sat, 22 Feb 2020 19:51:56 GMT',\n",
       "   'user_id': 2},\n",
       "  {'message': \"That's not possible!\",\n",
       "   'sentiment': 0.0,\n",
       "   'time': 'Sat, 22 Feb 2020 19:52:11 GMT',\n",
       "   'user_id': 1},\n",
       "  {'message': 'Ow!!',\n",
       "   'sentiment': 0.0,\n",
       "   'time': 'Sat, 22 Feb 2020 19:52:27 GMT',\n",
       "   'user_id': 2},\n",
       "  {'message': 'Hey Mon, what are you doing now? Wanna come see a movie with us?',\n",
       "   'sentiment': 0.0,\n",
       "   'time': 'Sat, 22 Feb 2020 19:52:54 GMT',\n",
       "   'user_id': 4},\n",
       "  {'message': \"Uhh, y'know actually I was gonna do some laundry.\",\n",
       "   'sentiment': 0.0,\n",
       "   'time': 'Sat, 22 Feb 2020 19:53:12 GMT',\n",
       "   'user_id': 1},\n",
       "  {'message': 'Oh.',\n",
       "   'sentiment': 0.0,\n",
       "   'time': 'Sat, 22 Feb 2020 19:53:31 GMT',\n",
       "   'user_id': 4},\n",
       "  {'message': 'Hey Chandler, wanna do it with me?',\n",
       "   'sentiment': 0.0,\n",
       "   'time': 'Sat, 22 Feb 2020 19:53:46 GMT',\n",
       "   'user_id': 1},\n",
       "  {'message': \"Sure, I'll do it with ya.\",\n",
       "   'sentiment': 0.3182,\n",
       "   'time': 'Sat, 22 Feb 2020 19:54:01 GMT',\n",
       "   'user_id': 2},\n",
       "  {'message': 'I have quarters!',\n",
       "   'sentiment': 0.0,\n",
       "   'time': 'Sat, 22 Feb 2020 19:54:19 GMT',\n",
       "   'user_id': 5}],\n",
       " 'sentiment_average[-1,1]': 0.14541249999999997}"
      ]
     },
     "execution_count": 6,
     "metadata": {},
     "output_type": "execute_result"
    }
   ],
   "source": [
    "requests.get(\"http://localhost:5000/chat/3/sentiment\").json()"
   ]
  }
 ],
 "metadata": {
  "kernelspec": {
   "display_name": "Python 3",
   "language": "python",
   "name": "python3"
  },
  "language_info": {
   "codemirror_mode": {
    "name": "ipython",
    "version": 3
   },
   "file_extension": ".py",
   "mimetype": "text/x-python",
   "name": "python",
   "nbconvert_exporter": "python",
   "pygments_lexer": "ipython3",
   "version": "3.7.5"
  }
 },
 "nbformat": 4,
 "nbformat_minor": 4
}
